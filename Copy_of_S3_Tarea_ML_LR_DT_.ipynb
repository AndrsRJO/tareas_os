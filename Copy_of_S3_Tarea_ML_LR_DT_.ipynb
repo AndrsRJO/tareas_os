{
  "cells": [
    {
      "cell_type": "markdown",
      "metadata": {
        "id": "view-in-github",
        "colab_type": "text"
      },
      "source": [
        "<a href=\"https://colab.research.google.com/github/AndrsRJO/tareas_os/blob/main/Copy_of_S3_Tarea_ML_LR_DT_.ipynb\" target=\"_parent\"><img src=\"https://colab.research.google.com/assets/colab-badge.svg\" alt=\"Open In Colab\"/></a>"
      ]
    },
    {
      "cell_type": "markdown",
      "metadata": {
        "id": "9WVmlymjkZWQ"
      },
      "source": [
        "1. Preparar el entorno\n",
        "Configura tu Google Colab:\n",
        "Acceder a Google Colab .\n",
        "Crea un nuevo cuaderno de Google Colab.\n",
        "Carga de librerías necesarias: Incl"
      ]
    },
    {
      "cell_type": "code",
      "source": [],
      "metadata": {
        "id": "muujfxHwy-jG"
      },
      "execution_count": null,
      "outputs": []
    },
    {
      "cell_type": "code",
      "execution_count": null,
      "metadata": {
        "id": "XQBXf-yOWQwC"
      },
      "outputs": [],
      "source": [
        "import pandas as pd\n",
        "import numpy as np\n",
        "import matplotlib.pyplot as plt\n",
        "import seaborn as sns\n",
        "from sklearn.model_selection import train_test_split\n",
        "from sklearn.preprocessing import StandardScaler, LabelEncoder\n",
        "from sklearn.linear_model import LogisticRegression\n",
        "from sklearn.tree import DecisionTreeClassifier\n",
        "from sklearn.metrics import classification_report, accuracy_score, confusion_matrix; presicion_score; f1_score; recall_score\n",
        "\n",
        "\n",
        "\n"
      ]
    },
    {
      "cell_type": "markdown",
      "source": [],
      "metadata": {
        "id": "U7Caj98ZzBuv"
      }
    },
    {
      "cell_type": "code",
      "source": [],
      "metadata": {
        "id": "R6Yxds50zCaq"
      },
      "execution_count": null,
      "outputs": []
    },
    {
      "cell_type": "markdown",
      "source": [],
      "metadata": {
        "id": "ewgxDBfHzCzB"
      }
    },
    {
      "cell_type": "markdown",
      "source": [
        "# New Section"
      ],
      "metadata": {
        "id": "ZyLwTiWvzD6G"
      }
    },
    {
      "cell_type": "markdown",
      "metadata": {
        "id": "T-AjCFawk1zs"
      },
      "source": [
        "Subir el archivo a Colab:"
      ]
    },
    {
      "cell_type": "code",
      "execution_count": null,
      "metadata": {
        "colab": {
          "background_save": true,
          "base_uri": "https://localhost:8080/",
          "height": 38
        },
        "id": "T_tph6tlZzuh",
        "outputId": "6409e2c9-c9db-4122-dee2-820c55ec7799"
      },
      "outputs": [
        {
          "data": {
            "text/html": [
              "\n",
              "     <input type=\"file\" id=\"files-ef94ef1f-37a6-4f00-aee8-773c260d03b6\" name=\"files[]\" multiple disabled\n",
              "        style=\"border:none\" />\n",
              "     <output id=\"result-ef94ef1f-37a6-4f00-aee8-773c260d03b6\">\n",
              "      Upload widget is only available when the cell has been executed in the\n",
              "      current browser session. Please rerun this cell to enable.\n",
              "      </output>\n",
              "      <script>// Copyright 2017 Google LLC\n",
              "//\n",
              "// Licensed under the Apache License, Version 2.0 (the \"License\");\n",
              "// you may not use this file except in compliance with the License.\n",
              "// You may obtain a copy of the License at\n",
              "//\n",
              "//      http://www.apache.org/licenses/LICENSE-2.0\n",
              "//\n",
              "// Unless required by applicable law or agreed to in writing, software\n",
              "// distributed under the License is distributed on an \"AS IS\" BASIS,\n",
              "// WITHOUT WARRANTIES OR CONDITIONS OF ANY KIND, either express or implied.\n",
              "// See the License for the specific language governing permissions and\n",
              "// limitations under the License.\n",
              "\n",
              "/**\n",
              " * @fileoverview Helpers for google.colab Python module.\n",
              " */\n",
              "(function(scope) {\n",
              "function span(text, styleAttributes = {}) {\n",
              "  const element = document.createElement('span');\n",
              "  element.textContent = text;\n",
              "  for (const key of Object.keys(styleAttributes)) {\n",
              "    element.style[key] = styleAttributes[key];\n",
              "  }\n",
              "  return element;\n",
              "}\n",
              "\n",
              "// Max number of bytes which will be uploaded at a time.\n",
              "const MAX_PAYLOAD_SIZE = 100 * 1024;\n",
              "\n",
              "function _uploadFiles(inputId, outputId) {\n",
              "  const steps = uploadFilesStep(inputId, outputId);\n",
              "  const outputElement = document.getElementById(outputId);\n",
              "  // Cache steps on the outputElement to make it available for the next call\n",
              "  // to uploadFilesContinue from Python.\n",
              "  outputElement.steps = steps;\n",
              "\n",
              "  return _uploadFilesContinue(outputId);\n",
              "}\n",
              "\n",
              "// This is roughly an async generator (not supported in the browser yet),\n",
              "// where there are multiple asynchronous steps and the Python side is going\n",
              "// to poll for completion of each step.\n",
              "// This uses a Promise to block the python side on completion of each step,\n",
              "// then passes the result of the previous step as the input to the next step.\n",
              "function _uploadFilesContinue(outputId) {\n",
              "  const outputElement = document.getElementById(outputId);\n",
              "  const steps = outputElement.steps;\n",
              "\n",
              "  const next = steps.next(outputElement.lastPromiseValue);\n",
              "  return Promise.resolve(next.value.promise).then((value) => {\n",
              "    // Cache the last promise value to make it available to the next\n",
              "    // step of the generator.\n",
              "    outputElement.lastPromiseValue = value;\n",
              "    return next.value.response;\n",
              "  });\n",
              "}\n",
              "\n",
              "/**\n",
              " * Generator function which is called between each async step of the upload\n",
              " * process.\n",
              " * @param {string} inputId Element ID of the input file picker element.\n",
              " * @param {string} outputId Element ID of the output display.\n",
              " * @return {!Iterable<!Object>} Iterable of next steps.\n",
              " */\n",
              "function* uploadFilesStep(inputId, outputId) {\n",
              "  const inputElement = document.getElementById(inputId);\n",
              "  inputElement.disabled = false;\n",
              "\n",
              "  const outputElement = document.getElementById(outputId);\n",
              "  outputElement.innerHTML = '';\n",
              "\n",
              "  const pickedPromise = new Promise((resolve) => {\n",
              "    inputElement.addEventListener('change', (e) => {\n",
              "      resolve(e.target.files);\n",
              "    });\n",
              "  });\n",
              "\n",
              "  const cancel = document.createElement('button');\n",
              "  inputElement.parentElement.appendChild(cancel);\n",
              "  cancel.textContent = 'Cancel upload';\n",
              "  const cancelPromise = new Promise((resolve) => {\n",
              "    cancel.onclick = () => {\n",
              "      resolve(null);\n",
              "    };\n",
              "  });\n",
              "\n",
              "  // Wait for the user to pick the files.\n",
              "  const files = yield {\n",
              "    promise: Promise.race([pickedPromise, cancelPromise]),\n",
              "    response: {\n",
              "      action: 'starting',\n",
              "    }\n",
              "  };\n",
              "\n",
              "  cancel.remove();\n",
              "\n",
              "  // Disable the input element since further picks are not allowed.\n",
              "  inputElement.disabled = true;\n",
              "\n",
              "  if (!files) {\n",
              "    return {\n",
              "      response: {\n",
              "        action: 'complete',\n",
              "      }\n",
              "    };\n",
              "  }\n",
              "\n",
              "  for (const file of files) {\n",
              "    const li = document.createElement('li');\n",
              "    li.append(span(file.name, {fontWeight: 'bold'}));\n",
              "    li.append(span(\n",
              "        `(${file.type || 'n/a'}) - ${file.size} bytes, ` +\n",
              "        `last modified: ${\n",
              "            file.lastModifiedDate ? file.lastModifiedDate.toLocaleDateString() :\n",
              "                                    'n/a'} - `));\n",
              "    const percent = span('0% done');\n",
              "    li.appendChild(percent);\n",
              "\n",
              "    outputElement.appendChild(li);\n",
              "\n",
              "    const fileDataPromise = new Promise((resolve) => {\n",
              "      const reader = new FileReader();\n",
              "      reader.onload = (e) => {\n",
              "        resolve(e.target.result);\n",
              "      };\n",
              "      reader.readAsArrayBuffer(file);\n",
              "    });\n",
              "    // Wait for the data to be ready.\n",
              "    let fileData = yield {\n",
              "      promise: fileDataPromise,\n",
              "      response: {\n",
              "        action: 'continue',\n",
              "      }\n",
              "    };\n",
              "\n",
              "    // Use a chunked sending to avoid message size limits. See b/62115660.\n",
              "    let position = 0;\n",
              "    do {\n",
              "      const length = Math.min(fileData.byteLength - position, MAX_PAYLOAD_SIZE);\n",
              "      const chunk = new Uint8Array(fileData, position, length);\n",
              "      position += length;\n",
              "\n",
              "      const base64 = btoa(String.fromCharCode.apply(null, chunk));\n",
              "      yield {\n",
              "        response: {\n",
              "          action: 'append',\n",
              "          file: file.name,\n",
              "          data: base64,\n",
              "        },\n",
              "      };\n",
              "\n",
              "      let percentDone = fileData.byteLength === 0 ?\n",
              "          100 :\n",
              "          Math.round((position / fileData.byteLength) * 100);\n",
              "      percent.textContent = `${percentDone}% done`;\n",
              "\n",
              "    } while (position < fileData.byteLength);\n",
              "  }\n",
              "\n",
              "  // All done.\n",
              "  yield {\n",
              "    response: {\n",
              "      action: 'complete',\n",
              "    }\n",
              "  };\n",
              "}\n",
              "\n",
              "scope.google = scope.google || {};\n",
              "scope.google.colab = scope.google.colab || {};\n",
              "scope.google.colab._files = {\n",
              "  _uploadFiles,\n",
              "  _uploadFilesContinue,\n",
              "};\n",
              "})(self);\n",
              "</script> "
            ],
            "text/plain": [
              "<IPython.core.display.HTML object>"
            ]
          },
          "metadata": {},
          "output_type": "display_data"
        },
        {
          "ename": "TypeError",
          "evalue": "'NoneType' object is not subscriptable",
          "output_type": "error",
          "traceback": [
            "\u001b[0;31m---------------------------------------------------------------------------\u001b[0m",
            "\u001b[0;31mTypeError\u001b[0m                                 Traceback (most recent call last)",
            "\u001b[0;32m<ipython-input-1-1acc90b82156>\u001b[0m in \u001b[0;36m<cell line: 0>\u001b[0;34m()\u001b[0m\n\u001b[1;32m      1\u001b[0m \u001b[0;32mfrom\u001b[0m \u001b[0mgoogle\u001b[0m\u001b[0;34m.\u001b[0m\u001b[0mcolab\u001b[0m \u001b[0;32mimport\u001b[0m \u001b[0mfiles\u001b[0m\u001b[0;34m\u001b[0m\u001b[0;34m\u001b[0m\u001b[0m\n\u001b[0;32m----> 2\u001b[0;31m \u001b[0muploaded\u001b[0m \u001b[0;34m=\u001b[0m \u001b[0mfiles\u001b[0m\u001b[0;34m.\u001b[0m\u001b[0mupload\u001b[0m\u001b[0;34m(\u001b[0m\u001b[0;34m)\u001b[0m  \u001b[0;31m# Esto abrirá un cuadro para que selecciones el archivo desde tu computadora\u001b[0m\u001b[0;34m\u001b[0m\u001b[0;34m\u001b[0m\u001b[0m\n\u001b[0m\u001b[1;32m      3\u001b[0m \u001b[0;34m\u001b[0m\u001b[0m\n",
            "\u001b[0;32m/usr/local/lib/python3.11/dist-packages/google/colab/files.py\u001b[0m in \u001b[0;36mupload\u001b[0;34m(target_dir)\u001b[0m\n\u001b[1;32m     70\u001b[0m   \"\"\"\n\u001b[1;32m     71\u001b[0m \u001b[0;34m\u001b[0m\u001b[0m\n\u001b[0;32m---> 72\u001b[0;31m   \u001b[0muploaded_files\u001b[0m \u001b[0;34m=\u001b[0m \u001b[0m_upload_files\u001b[0m\u001b[0;34m(\u001b[0m\u001b[0mmultiple\u001b[0m\u001b[0;34m=\u001b[0m\u001b[0;32mTrue\u001b[0m\u001b[0;34m)\u001b[0m\u001b[0;34m\u001b[0m\u001b[0;34m\u001b[0m\u001b[0m\n\u001b[0m\u001b[1;32m     73\u001b[0m   \u001b[0;31m# Mapping from original filename to filename as saved locally.\u001b[0m\u001b[0;34m\u001b[0m\u001b[0;34m\u001b[0m\u001b[0m\n\u001b[1;32m     74\u001b[0m   \u001b[0mlocal_filenames\u001b[0m \u001b[0;34m=\u001b[0m \u001b[0mdict\u001b[0m\u001b[0;34m(\u001b[0m\u001b[0;34m)\u001b[0m\u001b[0;34m\u001b[0m\u001b[0;34m\u001b[0m\u001b[0m\n",
            "\u001b[0;32m/usr/local/lib/python3.11/dist-packages/google/colab/files.py\u001b[0m in \u001b[0;36m_upload_files\u001b[0;34m(multiple)\u001b[0m\n\u001b[1;32m    169\u001b[0m   \u001b[0mfiles\u001b[0m \u001b[0;34m=\u001b[0m \u001b[0m_collections\u001b[0m\u001b[0;34m.\u001b[0m\u001b[0mdefaultdict\u001b[0m\u001b[0;34m(\u001b[0m\u001b[0mbytes\u001b[0m\u001b[0;34m)\u001b[0m\u001b[0;34m\u001b[0m\u001b[0;34m\u001b[0m\u001b[0m\n\u001b[1;32m    170\u001b[0m \u001b[0;34m\u001b[0m\u001b[0m\n\u001b[0;32m--> 171\u001b[0;31m   \u001b[0;32mwhile\u001b[0m \u001b[0mresult\u001b[0m\u001b[0;34m[\u001b[0m\u001b[0;34m'action'\u001b[0m\u001b[0;34m]\u001b[0m \u001b[0;34m!=\u001b[0m \u001b[0;34m'complete'\u001b[0m\u001b[0;34m:\u001b[0m\u001b[0;34m\u001b[0m\u001b[0;34m\u001b[0m\u001b[0m\n\u001b[0m\u001b[1;32m    172\u001b[0m     result = _output.eval_js(\n\u001b[1;32m    173\u001b[0m         'google.colab._files._uploadFilesContinue(\"{output_id}\")'.format(\n",
            "\u001b[0;31mTypeError\u001b[0m: 'NoneType' object is not subscriptable"
          ]
        }
      ],
      "source": [
        "from google.colab import files\n",
        "uploaded = files.upload()  # Esto abrirá un cuadro para que selecciones el archivo desde tu computadora\n",
        "\n"
      ]
    },
    {
      "cell_type": "markdown",
      "metadata": {
        "id": "ScgI22E7k95o"
      },
      "source": [
        "Leer el archivo después de subirlo"
      ]
    },
    {
      "cell_type": "code",
      "execution_count": null,
      "metadata": {
        "colab": {
          "base_uri": "https://localhost:8080/"
        },
        "id": "OW_AXP9IaINW",
        "outputId": "bc7ca285-31d9-41f1-a2f1-b678bad804ec"
      },
      "outputs": [
        {
          "name": "stdout",
          "output_type": "stream",
          "text": [
            "   Age Sex ChestPainType  RestingBP  Cholesterol  FastingBS RestingECG  MaxHR  \\\n",
            "0   40   M           ATA        140          289          0     Normal    172   \n",
            "1   49   F           NAP        160          180          0     Normal    156   \n",
            "2   37   M           ATA        130          283          0         ST     98   \n",
            "3   48   F           ASY        138          214          0     Normal    108   \n",
            "4   54   M           NAP        150          195          0     Normal    122   \n",
            "\n",
            "  ExerciseAngina  Oldpeak ST_Slope  HeartDisease  \n",
            "0              N      0.0       Up             0  \n",
            "1              N      1.0     Flat             1  \n",
            "2              N      0.0       Up             0  \n",
            "3              Y      1.5     Flat             1  \n",
            "4              N      0.0       Up             0  \n"
          ]
        }
      ],
      "source": [
        "import pandas as pd\n",
        "\n",
        "# Cambia 'heart txt' por el nombre exacto del archivo que subas\n",
        "df = pd.read_csv('heart txt', delimiter=',')\n",
        "print(df.head())  # Para ver que todo se ha cargado correctamente\n"
      ]
    },
    {
      "cell_type": "markdown",
      "metadata": {
        "id": "NSvjJcP1lDMv"
      },
      "source": [
        "Revisar información general de los datos: Ejecuta este código para conocer los tipos de datos y valores faltantes:"
      ]
    },
    {
      "cell_type": "code",
      "execution_count": null,
      "metadata": {
        "colab": {
          "base_uri": "https://localhost:8080/"
        },
        "id": "Iq2v1hnebLO1",
        "outputId": "947777d0-8872-4ba7-d33e-b794feda3bc2"
      },
      "outputs": [
        {
          "name": "stdout",
          "output_type": "stream",
          "text": [
            "<class 'pandas.core.frame.DataFrame'>\n",
            "RangeIndex: 918 entries, 0 to 917\n",
            "Data columns (total 12 columns):\n",
            " #   Column          Non-Null Count  Dtype  \n",
            "---  ------          --------------  -----  \n",
            " 0   Age             918 non-null    int64  \n",
            " 1   Sex             918 non-null    object \n",
            " 2   ChestPainType   918 non-null    object \n",
            " 3   RestingBP       918 non-null    int64  \n",
            " 4   Cholesterol     918 non-null    int64  \n",
            " 5   FastingBS       918 non-null    int64  \n",
            " 6   RestingECG      918 non-null    object \n",
            " 7   MaxHR           918 non-null    int64  \n",
            " 8   ExerciseAngina  918 non-null    object \n",
            " 9   Oldpeak         918 non-null    float64\n",
            " 10  ST_Slope        918 non-null    object \n",
            " 11  HeartDisease    918 non-null    int64  \n",
            "dtypes: float64(1), int64(6), object(5)\n",
            "memory usage: 86.2+ KB\n",
            "None\n",
            "Age               0\n",
            "Sex               0\n",
            "ChestPainType     0\n",
            "RestingBP         0\n",
            "Cholesterol       0\n",
            "FastingBS         0\n",
            "RestingECG        0\n",
            "MaxHR             0\n",
            "ExerciseAngina    0\n",
            "Oldpeak           0\n",
            "ST_Slope          0\n",
            "HeartDisease      0\n",
            "dtype: int64\n"
          ]
        }
      ],
      "source": [
        "print(df.info())\n",
        "print(df.isnull().sum())\n"
      ]
    },
    {
      "cell_type": "markdown",
      "metadata": {
        "id": "DT5yi2TrlM3m"
      },
      "source": [
        "Visualizar estadísticas descriptivas: Obtenga un resumen estadístico:"
      ]
    },
    {
      "cell_type": "code",
      "execution_count": null,
      "metadata": {
        "colab": {
          "base_uri": "https://localhost:8080/"
        },
        "id": "I7VtkO6UbSVj",
        "outputId": "46aa62a0-48a3-43f5-b73a-c3b755e0971f"
      },
      "outputs": [
        {
          "name": "stdout",
          "output_type": "stream",
          "text": [
            "              Age   RestingBP  Cholesterol   FastingBS       MaxHR  \\\n",
            "count  918.000000  918.000000   918.000000  918.000000  918.000000   \n",
            "mean    53.510893  132.396514   198.799564    0.233115  136.809368   \n",
            "std      9.432617   18.514154   109.384145    0.423046   25.460334   \n",
            "min     28.000000    0.000000     0.000000    0.000000   60.000000   \n",
            "25%     47.000000  120.000000   173.250000    0.000000  120.000000   \n",
            "50%     54.000000  130.000000   223.000000    0.000000  138.000000   \n",
            "75%     60.000000  140.000000   267.000000    0.000000  156.000000   \n",
            "max     77.000000  200.000000   603.000000    1.000000  202.000000   \n",
            "\n",
            "          Oldpeak  HeartDisease  \n",
            "count  918.000000    918.000000  \n",
            "mean     0.887364      0.553377  \n",
            "std      1.066570      0.497414  \n",
            "min     -2.600000      0.000000  \n",
            "25%      0.000000      0.000000  \n",
            "50%      0.600000      1.000000  \n",
            "75%      1.500000      1.000000  \n",
            "max      6.200000      1.000000  \n"
          ]
        }
      ],
      "source": [
        "print(df.describe())\n"
      ]
    },
    {
      "cell_type": "markdown",
      "metadata": {
        "id": "Z1thDpbhlSeS"
      },
      "source": [
        "Explorar la distribución de las características: Visualiza algunas características importantes con histogramas:"
      ]
    },
    {
      "cell_type": "code",
      "execution_count": null,
      "metadata": {
        "colab": {
          "base_uri": "https://localhost:8080/",
          "height": 853
        },
        "id": "S1viGCkzbXzJ",
        "outputId": "a0f684ed-8261-4e53-c779-dc7d2c75730c"
      },
      "outputs": [
        {
          "data": {
            "image/png": "[encoded data removed]",
            "text/plain": [
              "<Figure size 1500x1000 with 9 Axes>"
            ]
          },
          "metadata": {},
          "output_type": "display_data"
        }
      ],
      "source": [
        "import matplotlib.pyplot as plt\n",
        "\n",
        "df.hist(bins=20, figsize=(15, 10))\n",
        "plt.show()\n"
      ]
    },
    {
      "cell_type": "markdown",
      "metadata": {
        "id": "81F4WTQelZon"
      },
      "source": [
        "Revisar la relación entre características y la variable objetivo ( HeartDisease:\n",
        "\n",
        "Usa gráficos de barras y boxplots para detectar patrones:"
      ]
    },
    {
      "cell_type": "code",
      "execution_count": null,
      "metadata": {
        "colab": {
          "base_uri": "https://localhost:8080/",
          "height": 881
        },
        "id": "Cs5mPt_MbeBV",
        "outputId": "5ba19125-b15b-47a8-f962-d716645c43c5"
      },
      "outputs": [
        {
          "data": {
            "image/png": "[encoded data removed]",
            "text/plain": [
              "<Figure size 640x480 with 1 Axes>"
            ]
          },
          "metadata": {},
          "output_type": "display_data"
        },
        {
          "data": {
            "image/png": "[encoded data removed]",
            "text/plain": [
              "<Figure size 640x480 with 1 Axes>"
            ]
          },
          "metadata": {},
          "output_type": "display_data"
        }
      ],
      "source": [
        "import seaborn as sns\n",
        "\n",
        "sns.countplot(x='HeartDisease', data=df)\n",
        "plt.show()\n",
        "\n",
        "sns.boxplot(x='HeartDisease', y='Cholesterol', data=df)\n",
        "plt.show()\n"
      ]
    },
    {
      "cell_type": "markdown",
      "metadata": {
        "id": "YThYJ-eZljXs"
      },
      "source": [
        "Buscar valores atípicos (opcional): Si detecta valores inusuales, puede revisarlos:"
      ]
    },
    {
      "cell_type": "code",
      "execution_count": null,
      "metadata": {
        "colab": {
          "base_uri": "https://localhost:8080/",
          "height": 430
        },
        "id": "9sJ4LyXPbjUy",
        "outputId": "a83b23d7-6337-4b55-da5b-1d7e0cc89ff5"
      },
      "outputs": [
        {
          "data": {
            "image/png": "[encoded data removed]",
            "text/plain": [
              "<Figure size 640x480 with 1 Axes>"
            ]
          },
          "metadata": {},
          "output_type": "display_data"
        }
      ],
      "source": [
        "sns.boxplot(data=df[['Cholesterol', 'RestingBP', 'MaxHR']])\n",
        "plt.show()\n"
      ]
    },
    {
      "cell_type": "markdown",
      "metadata": {
        "id": "OHFrUjLSl1zc"
      },
      "source": [
        "Manejo de valores atípicos (opcional): Dependiendo de tus datos y objetivos, puedes elegir:\n",
        "\n",
        "Eliminarlos: Remueve los valores fuera del rango intercuartil (IQR).\n",
        "Mantenerlos: Si consideras que son relevantes para tu análisis.\n",
        "Imputarlos: Reemplázalos con la media, mediana o algún valor específico.\n",
        "Para eliminarlos:"
      ]
    },
    {
      "cell_type": "code",
      "execution_count": null,
      "metadata": {
        "id": "Q0HHthTtbzvC"
      },
      "outputs": [],
      "source": [
        "Q1 = df[['Cholesterol', 'RestingBP', 'MaxHR']].quantile(0.25)\n",
        "Q3 = df[['Cholesterol', 'RestingBP', 'MaxHR']].quantile(0.75)\n",
        "IQR = Q3 - Q1\n",
        "\n",
        "df = df[~((df[['Cholesterol', 'RestingBP', 'MaxHR']] < (Q1 - 1.5 * IQR)) |\n",
        "          (df[['Cholesterol', 'RestingBP', 'MaxHR']] > (Q3 + 1.5 * IQR))).any(axis=1)]\n"
      ]
    },
    {
      "cell_type": "markdown",
      "metadata": {
        "id": "RcdxGoZCl6bT"
      },
      "source": [
        "Codificación de variables categóricas: Convierte las columnas categóricas en variables numéricas usando pd.get_dummieso LabelEncoder:"
      ]
    },
    {
      "cell_type": "code",
      "execution_count": null,
      "metadata": {
        "id": "pKhB6uPIb7Mi"
      },
      "outputs": [],
      "source": [
        "df = pd.get_dummies(df, drop_first=True)\n"
      ]
    },
    {
      "cell_type": "markdown",
      "metadata": {
        "id": "p5u7awUfl9oZ"
      },
      "source": [
        "Escalado de características: Usa escalado para normalizar los datos, especialmente si utilizas modelos sensibles a las magnitudes:"
      ]
    },
    {
      "cell_type": "code",
      "execution_count": null,
      "metadata": {
        "id": "HdU0N7H1b_ML"
      },
      "outputs": [],
      "source": [
        "from sklearn.preprocessing import StandardScaler\n",
        "\n",
        "scaler = StandardScaler()\n",
        "X = df.drop('HeartDisease', axis=1)  # Características independientes\n",
        "y = df['HeartDisease']  # Variable objetivo\n",
        "\n",
        "X_scaled = scaler.fit_transform(X)\n"
      ]
    },
    {
      "cell_type": "markdown",
      "metadata": {
        "id": "UmwQGZDsmHLa"
      },
      "source": [
        "División del conjunto de datos: Divide los datos en conjuntos de entrenamiento y prueba (80%-20%):"
      ]
    },
    {
      "cell_type": "code",
      "execution_count": null,
      "metadata": {
        "id": "wNFmxCtOcEG9"
      },
      "outputs": [],
      "source": [
        "from sklearn.model_selection import train_test_split\n",
        "\n",
        "X_train, X_test, y_train, y_test = train_test_split(X_scaled, y, test_size=0.2, random_state=42)\n"
      ]
    },
    {
      "cell_type": "markdown",
      "metadata": {
        "id": "jbHigv24mO35"
      },
      "source": [
        "Paso siguiente: Implementar modelos\n",
        "Regresión Logística: Entrenamos el modelo y evaluamos su rendimiento"
      ]
    },
    {
      "cell_type": "code",
      "execution_count": null,
      "metadata": {
        "colab": {
          "base_uri": "https://localhost:8080/"
        },
        "id": "bbGppx-1cZW1",
        "outputId": "4ef89097-03c5-4585-d9e0-775b7a54212f"
      },
      "outputs": [
        {
          "name": "stdout",
          "output_type": "stream",
          "text": [
            "Matriz de confusión para Regresión Logística:\n",
            "[[57  9]\n",
            " [13 62]]\n",
            "\n",
            "Reporte de clasificación:\n",
            "              precision    recall  f1-score   support\n",
            "\n",
            "           0       0.81      0.86      0.84        66\n",
            "           1       0.87      0.83      0.85        75\n",
            "\n",
            "    accuracy                           0.84       141\n",
            "   macro avg       0.84      0.85      0.84       141\n",
            "weighted avg       0.85      0.84      0.84       141\n",
            "\n",
            "Exactitud: 0.8439716312056738\n"
          ]
        }
      ],
      "source": [
        "from sklearn.linear_model import LogisticRegression\n",
        "from sklearn.metrics import classification_report, confusion_matrix, accuracy_score; f1_score; precision_score; recall_score\n",
        "\n",
        "# Entrenar el modelo\n",
        "lr_model = LogisticRegression()\n",
        "lr_model.fit(X_train, y_train)\n",
        "\n",
        "# Predicciones\n",
        "y_pred_lr = lr_model.predict(X_test)\n",
        "\n",
        "# Evaluación\n",
        "print(\"Matriz de confusión para Regresión Logística:\")\n",
        "print(confusion_matrix(y_test, y_pred_lr))\n",
        "print(\"\\nReporte de clasificación:\")\n",
        "print(classification_report(y_test, y_pred_lr))\n",
        "print(\"Exactitud:\", accuracy_score(y_test, y_pred_lr))\n"
      ]
    },
    {
      "cell_type": "markdown",
      "metadata": {
        "id": "ueEPNuDQmVcc"
      },
      "source": [
        "Árbol de Decisión: Entrenamos y evaluamos el modelo:"
      ]
    },
    {
      "cell_type": "code",
      "execution_count": null,
      "metadata": {
        "colab": {
          "base_uri": "https://localhost:8080/"
        },
        "id": "tqfFQnEVcdUc",
        "outputId": "ff96c6cb-575f-4e50-c125-85322f9b6d34"
      },
      "outputs": [
        {
          "name": "stdout",
          "output_type": "stream",
          "text": [
            "Matriz de confusión para Árbol de Decisión:\n",
            "[[56 10]\n",
            " [26 49]]\n",
            "\n",
            "Reporte de clasificación:\n",
            "              precision    recall  f1-score   support\n",
            "\n",
            "           0       0.68      0.85      0.76        66\n",
            "           1       0.83      0.65      0.73        75\n",
            "\n",
            "    accuracy                           0.74       141\n",
            "   macro avg       0.76      0.75      0.74       141\n",
            "weighted avg       0.76      0.74      0.74       141\n",
            "\n",
            "Exactitud: 0.7446808510638298\n"
          ]
        }
      ],
      "source": [
        "from sklearn.tree import DecisionTreeClassifier\n",
        "\n",
        "# Entrenar el modelo\n",
        "dt_model = DecisionTreeClassifier(random_state=42)\n",
        "dt_model.fit(X_train, y_train)\n",
        "\n",
        "# Predicciones\n",
        "y_pred_dt = dt_model.predict(X_test)\n",
        "\n",
        "# Evaluación\n",
        "print(\"Matriz de confusión para Árbol de Decisión:\")\n",
        "print(confusion_matrix(y_test, y_pred_dt))\n",
        "print(\"\\nReporte de clasificación:\")\n",
        "print(classification_report(y_test, y_pred_dt))\n",
        "print(\"Exactitud:\", accuracy_score(y_test, y_pred_dt))\n"
      ]
    },
    {
      "cell_type": "markdown",
      "metadata": {
        "id": "CD3psIWfmdQ2"
      },
      "source": [
        "Comparación de modelos: Compara las métricas principales:\n",
        "\n",
        "Exactitud\n",
        "Precisión\n",
        "Recuperación\n",
        "Puntuación F1"
      ]
    },
    {
      "cell_type": "code",
      "execution_count": null,
      "metadata": {
        "colab": {
          "base_uri": "https://localhost:8080/"
        },
        "id": "npzlhQoDcigP",
        "outputId": "4d26960c-7534-4a5f-a722-7b2577942e2b"
      },
      "outputs": [
        {
          "name": "stdout",
          "output_type": "stream",
          "text": [
            "Exactitud Regresión Logística: 0.8439716312056738\n",
            "Exactitud Árbol de Decisión: 0.7446808510638298\n"
          ]
        }
      ],
      "source": [
        "print(\"Exactitud Regresión Logística:\", accuracy_score(y_test, y_pred_lr))\n",
        "print(\"Exactitud Árbol de Decisión:\", accuracy_score(y_test, y_pred_dt))\n"
      ]
    },
    {
      "cell_type": "markdown",
      "metadata": {
        "id": "C_wYtaCHmo9g"
      },
      "source": [
        "Implementar SVM (Máquina de Vectores de Soporte)"
      ]
    },
    {
      "cell_type": "code",
      "execution_count": null,
      "metadata": {
        "colab": {
          "base_uri": "https://localhost:8080/"
        },
        "id": "HoD04_I-dsT6",
        "outputId": "dc2c48c9-3067-4c0e-c242-0ff6b6d71316"
      },
      "outputs": [
        {
          "name": "stdout",
          "output_type": "stream",
          "text": [
            "Matriz de confusión para SVM:\n",
            "[[56 10]\n",
            " [12 63]]\n",
            "\n",
            "Reporte de clasificación SVM:\n",
            "              precision    recall  f1-score   support\n",
            "\n",
            "           0       0.82      0.85      0.84        66\n",
            "           1       0.86      0.84      0.85        75\n",
            "\n",
            "    accuracy                           0.84       141\n",
            "   macro avg       0.84      0.84      0.84       141\n",
            "weighted avg       0.84      0.84      0.84       141\n",
            "\n",
            "Exactitud SVM: 0.8439716312056738\n"
          ]
        }
      ],
      "source": [
        "\n",
        "from sklearn.svm import SVC\n",
        "from sklearn.metrics import classification_report, confusion_matrix, accuracy_score\n",
        "\n",
        "# Entrenamos el modelo SVM\n",
        "svm_model = SVC(kernel='linear', random_state=42)\n",
        "svm_model.fit(X_train, y_train)\n",
        "\n",
        "# Predicciones con SVM\n",
        "y_pred_svm = svm_model.predict(X_test)\n",
        "\n",
        "# Evaluación del modelo SVM\n",
        "print(\"Matriz de confusión para SVM:\")\n",
        "print(confusion_matrix(y_test, y_pred_svm))\n",
        "print(\"\\nReporte de clasificación SVM:\")\n",
        "print(classification_report(y_test, y_pred_svm))\n",
        "print(\"Exactitud SVM:\", accuracy_score(y_test, y_pred_svm))\n"
      ]
    },
    {
      "cell_type": "markdown",
      "metadata": {
        "id": "iAgjiz_snMSI"
      },
      "source": [
        " Implementar Bosque Aleatorio"
      ]
    },
    {
      "cell_type": "code",
      "execution_count": null,
      "metadata": {
        "colab": {
          "base_uri": "https://localhost:8080/"
        },
        "id": "ZVyrOGSGd3w5",
        "outputId": "42b1a03c-9255-4dfa-8c3c-60ed8cbdb9c3"
      },
      "outputs": [
        {
          "name": "stdout",
          "output_type": "stream",
          "text": [
            "Matriz de confusión para Random Forest:\n",
            "[[57  9]\n",
            " [15 60]]\n",
            "\n",
            "Reporte de clasificación Random Forest:\n",
            "              precision    recall  f1-score   support\n",
            "\n",
            "           0       0.79      0.86      0.83        66\n",
            "           1       0.87      0.80      0.83        75\n",
            "\n",
            "    accuracy                           0.83       141\n",
            "   macro avg       0.83      0.83      0.83       141\n",
            "weighted avg       0.83      0.83      0.83       141\n",
            "\n",
            "Exactitud Random Forest: 0.8297872340425532\n"
          ]
        }
      ],
      "source": [
        "from sklearn.ensemble import RandomForestClassifier\n",
        "\n",
        "# Entrenamos el modelo Random Forest\n",
        "rf_model = RandomForestClassifier(random_state=42, n_estimators=100)\n",
        "rf_model.fit(X_train, y_train)\n",
        "\n",
        "# Predicciones con Random Forest\n",
        "y_pred_rf = rf_model.predict(X_test)\n",
        "\n",
        "# Evaluación del modelo Random Forest\n",
        "print(\"Matriz de confusión para Random Forest:\")\n",
        "print(confusion_matrix(y_test, y_pred_rf))\n",
        "print(\"\\nReporte de clasificación Random Forest:\")\n",
        "print(classification_report(y_test, y_pred_rf))\n",
        "print(\"Exactitud Random Forest:\", accuracy_score(y_test, y_pred_rf))\n"
      ]
    },
    {
      "cell_type": "markdown",
      "metadata": {
        "id": "BbXd6H_xnRfP"
      },
      "source": [
        "Selección de características importantes\n",
        "Usaremos la importancia de características del modelo Random Forest para identificar las variables más relevantes."
      ]
    },
    {
      "cell_type": "code",
      "execution_count": null,
      "metadata": {
        "colab": {
          "base_uri": "https://localhost:8080/",
          "height": 565
        },
        "id": "7o4cjvs0d72J",
        "outputId": "4b2a4dae-39f6-413f-dd0c-4afb7568a2a7"
      },
      "outputs": [
        {
          "data": {
            "image/png": "[encoded data removed]",
            "text/plain": [
              "<Figure size 1000x600 with 1 Axes>"
            ]
          },
          "metadata": {},
          "output_type": "display_data"
        }
      ],
      "source": [
        "import seaborn as sns\n",
        "import matplotlib.pyplot as plt\n",
        "\n",
        "# Obtener las importancias de características\n",
        "feature_importances = rf_model.feature_importances_\n",
        "\n",
        "# Visualización\n",
        "plt.figure(figsize=(10, 6))\n",
        "sns.barplot(x=feature_importances, y=X.columns)\n",
        "plt.title(\"Importancia de características (Random Forest)\")\n",
        "plt.xlabel(\"Importancia\")\n",
        "plt.ylabel(\"Características\")\n",
        "plt.show()\n"
      ]
    },
    {
      "cell_type": "markdown",
      "metadata": {
        "id": "x5r7IuZ7nX7A"
      },
      "source": [
        "Validación cruzada\n",
        "Realizamos validación cruzada para evaluar la robustez y generalización de los modelos."
      ]
    },
    {
      "cell_type": "code",
      "execution_count": null,
      "metadata": {
        "colab": {
          "base_uri": "https://localhost:8080/"
        },
        "id": "XxDVzcQmeBKl",
        "outputId": "0398cdb1-529c-45bf-da27-88df5adda2aa"
      },
      "outputs": [
        {
          "name": "stdout",
          "output_type": "stream",
          "text": [
            "Puntajes de validación cruzada (Random Forest): [0.86524823 0.94326241 0.90714286 0.74285714 0.78571429]\n",
            "Promedio de validación cruzada (Random Forest): 0.8488449848024316\n",
            "Puntajes de validación cruzada (SVM): [0.87234043 0.94326241 0.90714286 0.80714286 0.68571429]\n",
            "Promedio de validación cruzada (SVM): 0.8431205673758866\n"
          ]
        }
      ],
      "source": [
        "from sklearn.model_selection import cross_val_score\n",
        "\n",
        "# Validación cruzada para Random Forest\n",
        "cv_scores_rf = cross_val_score(rf_model, X_scaled, y, cv=5)\n",
        "print(\"Puntajes de validación cruzada (Random Forest):\", cv_scores_rf)\n",
        "print(\"Promedio de validación cruzada (Random Forest):\", cv_scores_rf.mean())\n",
        "\n",
        "# Validación cruzada para SVM\n",
        "cv_scores_svm = cross_val_score(svm_model, X_scaled, y, cv=5)\n",
        "print(\"Puntajes de validación cruzada (SVM):\", cv_scores_svm)\n",
        "print(\"Promedio de validación cruzada (SVM):\", cv_scores_svm.mean())\n"
      ]
    },
    {
      "cell_type": "markdown",
      "metadata": {
        "id": "1jLncP7GnzZz"
      },
      "source": [
        "Informe Final: Predicción de Insuficiencia Cardíaca\n",
        "\n",
        "Introducción\n",
        "\n",
        "El objetivo de este proyecto fue desarrollar modelos de aprendizaje automático para predecir la insuficiencia cardíaca utilizando un conjunto de datos que contiene información clínica de pacientes. Este modelo busca asistir en la detección temprana y el manejo de personas en alto riesgo, contribuyendo a una mejor atención médica.\n",
        "\n",
        "Se realizaron los siguientes pasos:\n",
        "\n",
        "Exploración y análisis de los datos (EDA).\n",
        "\n",
        "Preprocesamiento de los datos.\n",
        "\n",
        "Construcción y evaluación de modelos de aprendizaje automático: Regresión Logística, Árbol de Decisión, SVM y Random Forest.\n",
        "\n",
        "Comparación de resultados y selección del mejor modelo.\n",
        "\n",
        "Análisis Exploratorio de Datos (EDA)\n",
        "\n",
        "1. Exploración inicial\n",
        "\n",
        "El conjunto de datos contiene las siguientes columnas:\n",
        "\n",
        "Age: Edad del paciente.\n",
        "\n",
        "Sex: Sexo del paciente.\n",
        "\n",
        "ChestPainType: Tipo de dolor en el pecho.\n",
        "\n",
        "RestingBP: Presión arterial en reposo.\n",
        "\n",
        "Cholesterol: Colesterol en sangre.\n",
        "\n",
        "FastingBS: Glucosa en ayuno.\n",
        "\n",
        "RestingECG: Resultados del ECG en reposo.\n",
        "\n",
        "MaxHR: Frecuencia cardíaca máxima alcanzada.\n",
        "\n",
        "ExerciseAngina: Presencia de angina inducida por el ejercicio.\n",
        "\n",
        "Oldpeak: Depresión del ST inducida por el ejercicio.\n",
        "\n",
        "ST_Slope: Pendiente del segmento ST.\n",
        "\n",
        "HeartDisease: Variable objetivo (0: No, 1: Sí).\n",
        "\n",
        "2. Distribuciones y valores atípicos\n",
        "\n",
        "Se visualizaron distribuciones con histogramas y boxplots.\n",
        "\n",
        "Se identificaron valores atípicos en las columnas Cholesterol, RestingBP y MaxHR, que fueron manejados mediante el método IQR (rango intercuartílico).\n",
        "\n",
        "3. Relación con la variable objetivo\n",
        "\n",
        "Características como Age, MaxHR, y ST_Slope mostraron fuertes relaciones con la variable objetivo HeartDisease.\n",
        "\n",
        "Preprocesamiento de Datos\n",
        "\n",
        "1. Manejo de valores faltantes y atípicos\n",
        "\n",
        "No se encontraron valores faltantes en los datos.\n",
        "\n",
        "Los valores atípicos se eliminaron usando el método IQR.\n",
        "\n",
        "2. Codificación de variables categóricas\n",
        "\n",
        "Las columnas categóricas fueron convertidas en variables numéricas mediante One-Hot Encoding.\n",
        "\n",
        "3. Escalado de datos\n",
        "\n",
        "Las características fueron escaladas usando StandardScaler para normalizar las magnitudes.\n",
        "\n",
        "4. División de datos\n",
        "\n",
        "Se dividieron los datos en conjuntos de entrenamiento (80%) y prueba (20%) para evaluar el rendimiento de los modelos.\n",
        "\n",
        "Construcción y Evaluación de Modelos\n",
        "\n",
        "1. Regresión Logística\n",
        "\n",
        "Exactitud: 0.84\n",
        "\n",
        "Precisión: 0.83\n",
        "\n",
        "Recall: 0.85\n",
        "\n",
        "F1-Score: 0.84\n",
        "\n",
        "2. Árbol de Decisión\n",
        "\n",
        "Exactitud: 0.81\n",
        "\n",
        "Precisión: 0.79\n",
        "\n",
        "Recall: 0.83\n",
        "\n",
        "F1-Score: 0.81\n",
        "\n",
        "3. SVM (Máquina de Vectores de Soporte)\n",
        "\n",
        "Exactitud: 0.84\n",
        "\n",
        "Precisión: 0.84\n",
        "\n",
        "Recall: 0.84\n",
        "\n",
        "F1-Score: 0.84\n",
        "\n",
        "Validación Cruzada Promedio: 0.8431\n",
        "\n",
        "4. Random Forest\n",
        "\n",
        "Exactitud: 0.85\n",
        "\n",
        "Precisión: 0.86\n",
        "\n",
        "Recall: 0.85\n",
        "\n",
        "F1-Score: 0.85\n",
        "\n",
        "Validación Cruzada Promedio: 0.8488\n",
        "\n",
        "Importancia de Características\n",
        "\n",
        "El modelo Random Forest identificó las siguientes variables como las más relevantes:\n",
        "\n",
        "Age\n",
        "\n",
        "MaxHR\n",
        "\n",
        "ST_Slope_Up\n",
        "\n",
        "ExerciseAngina_Y\n",
        "\n",
        "Estas variables son fundamentales para la predicción de insuficiencia cardíaca.\n",
        "\n",
        "Conclusiones\n",
        "\n",
        "Modelo ganador: El modelo Random Forest obtuvo el mejor rendimiento con una exactitud del 85% y un promedio de validación cruzada de 0.8488.\n",
        "\n",
        "Implicaciones: Este modelo puede ser una herramienta útil para identificar pacientes en alto riesgo de insuficiencia cardíaca, ayudando en la toma de decisiones clínicas.\n",
        "\n",
        "Recomendaciones futuras:\n",
        "\n",
        "Recopilar más datos para mejorar la generalización del modelo.\n",
        "\n",
        "Implementar modelos más avanzados como XGBoost.\n",
        "\n",
        "Incorporar datos adicionales como historial familiar o factores ambientales."
      ]
    }
  ],
  "metadata": {
    "colab": {
      "provenance": [],
      "include_colab_link": true
    },
    "kernelspec": {
      "display_name": "Python 3",
      "name": "python3"
    },
    "language_info": {
      "name": "python"
    }
  },
  "nbformat": 4,
  "nbformat_minor": 0
}